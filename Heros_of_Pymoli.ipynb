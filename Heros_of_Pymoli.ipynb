{
 "cells": [
  {
   "cell_type": "code",
   "execution_count": null,
   "id": "0706e445-e073-4226-a35c-2fdb40750aca",
   "metadata": {},
   "outputs": [],
   "source": [
    "# Dependencies and Setup\n",
    "import pandas as pd\n",
    "\n",
    "# File to Load (Remember to Change These)\n",
    "file_to_load = \"Resources/purchase_data.csv\"\n",
    "\n",
    "# Read Purchasing File and store into Pandas data frame\n",
    "purchase_data = pd.read_csv(file_to_load)"
   ]
  },
  {
   "cell_type": "code",
   "execution_count": null,
   "id": "7690c618-f8c0-4e63-bf36-028d944cd70c",
   "metadata": {},
   "outputs": [],
   "source": [
    "purchase_data"
   ]
  },
  {
   "cell_type": "code",
   "execution_count": null,
   "id": "32309811-2663-42e0-a610-6617d782f8c1",
   "metadata": {},
   "outputs": [],
   "source": [
    "sum_players = purchase_data[\"SN\"].nunique()\n",
    "sum_players_df = pd.DataFrame({\"total players\":[sum_players]})\n",
    "sum_players_df.head()"
   ]
  },
  {
   "cell_type": "code",
   "execution_count": null,
   "id": "aec23039",
   "metadata": {},
   "outputs": [],
   "source": [
    "sum_players = purchase_data[\"SN\"].nunique()\n",
    "sum_players_df = pd.DataFrame({\"total players\":[sum_players]})\n",
    "sum_players_df.head()"
   ]
  },
  {
   "cell_type": "code",
   "execution_count": null,
   "id": "e4ae700b-7293-4b3e-868a-c2f74f0dfdf8",
   "metadata": {},
   "outputs": [],
   "source": [
    "output = {'Number of Unique Items' : purchase_data[[\"Item Name\"]].nunique().values}\n",
    "output[\"Average Price\"] = purchase_data[[\"Price\"]].mean().values\n",
    "output[\"Number of Purchases\"] = purchase_data[[\"Purchase ID\"]].count().values\n",
    "output[\"Total Revenue\"] = purchase_data[[\"Price\"]].sum().values\n",
    "output = pd.DataFrame(output)\n",
    "output\n",
    "\n",
    "# Average Price\n",
    "# Number of Purchases\n",
    "# Total Revenue\n",
    "\n"
   ]
  },
  {
   "cell_type": "code",
   "execution_count": null,
   "id": "ff58d3ac-c1d9-46a5-b3ba-1508771e70a6",
   "metadata": {},
   "outputs": [],
   "source": [
    "#Gender Demographics\n",
    "gender_group = purchase_data.groupby(['Gender'])\n",
    "gender_df = pd.DataFrame({\"Count\":gender_group['SN'].nunique()})\n",
    "gender_df = gender_df.sort_values(\"Count\", ascending=False)\n",
    "gender_df[\"Percentage\"] = gender_df[\"Count\"] / total_players * 100\n",
    "gender_df[\"Percentage\"] = gender_df[\"Percentage\"].map(format)\n",
    "gender_df"
   ]
  },
  {
   "cell_type": "code",
   "execution_count": null,
   "id": "60658847-8a7f-4726-92ea-13754335cc3e",
   "metadata": {},
   "outputs": [],
   "source": [
    "#Purchase Analysis (Gender)\n",
    "\n",
    "gender_analysis_df = pd.DataFrame({\"Purchase Count\":gender_group['Purchase ID'].count(),\"Average Purchase Price\":gender_group['Price'].mean(),\"Total Purchase Value\":gender_group['Price'].sum()})\n",
    "# Format the cells by using a map() method \n",
    "gender_analysis_df['Average Purchase Price'] = gender_analysis_df['Average Purchase Price'].map(format)\n",
    "gender_analysis_df['Total Purchase Value'] = gender_analysis_df['Total Purchase Value'].map(format)\n",
    "gender_person_group = purchase_data.groupby(['Gender','SN']).sum()\n",
    "gender_person_sum_df = pd.DataFrame(gender_person_group)\n",
    "\n",
    "\n",
    "# Next add this column to the above dataframe\n",
    "gender_analysis_df['Avg Total Purchase per Person'] = gender_person_sum_df.groupby('Gender')['Price'].mean()\n",
    "# Finally format the new column\n",
    "gender_analysis_df['Avg Total Purchase per Person'] = gender_analysis_df['Avg Total Purchase per Person'].map(format)\n",
    "gender_analysis_df"
   ]
  },
  {
   "cell_type": "code",
   "execution_count": null,
   "id": "3c9bda7a-7f48-4ad8-934e-3dbb3117496c",
   "metadata": {},
   "outputs": [],
   "source": [
    "#purchasing Analysis (Age)"
   ]
  },
  {
   "cell_type": "code",
   "execution_count": null,
   "id": "c92aeafd",
   "metadata": {},
   "outputs": [],
   "source": [
    "#establish bins\n",
    "bins = [0, 9, 14, 19, 24, 29, 34, 39, 400]\n",
    "\n",
    "group_labels = ['<10', '10-14', '15-19', '20-24', '25-29', '30-34', '35-39', '40+']"
   ]
  },
  {
   "cell_type": "code",
   "execution_count": null,
   "id": "6919e4df",
   "metadata": {},
   "outputs": [],
   "source": [
    "#categorize the existing players using the age bins\n",
    "purchase_data['age_group'] =  pd.cut(purchase_data['Age'], bins, labels=group_labels)"
   ]
  },
  {
   "cell_type": "code",
   "execution_count": null,
   "id": "2e861745",
   "metadata": {},
   "outputs": [],
   "source": [
    "#groupby\n",
    "players_by_age = purchase_data.groupby('age_group').SN.nunique()\n",
    "\n",
    "#create dataframe to show total count and percentage of total players for each group\n",
    "age_demo = pd.DataFrame({\n",
    "    'Total Count': players_by_age,\n",
    "    'Percentage of Players': (players_by_age / purchase_data.SN.nunique() * 100).map(\"{:.2f}\".format)\n",
    "})\n",
    "age_demo"
   ]
  },
  {
   "cell_type": "code",
   "execution_count": null,
   "id": "05ff1ce1",
   "metadata": {},
   "outputs": [],
   "source": [
    "#isolate columns needed for chunk in two frames\n",
    "purchase_count_age = purchase_data[['age_group', 'Purchase ID']]\n",
    "purchase_values_age = purchase_data[['age_group', 'Price']]\n",
    "\n",
    "#totals purchase by age bin\n",
    "total_purchase_age = purchase_count_age.groupby('age_group').count() \n",
    "\n",
    "#Dollar values of purchase by age\n",
    "total_purchase_values_age = purchase_values_age.groupby('age_group').sum()\n",
    "\n",
    "#display summary df\n",
    "purchasing_age_analysis = pd.DataFrame({\n",
    "    'Purchase Count': total_purchase_age['Purchase ID'],\n",
    "    'Average Purchase Price': (total_purchase_values_age['Price'] / total_purchase_age['Purchase ID']).map(\"${:.2f}\".format),\n",
    "    'Total Purchase Value': total_purchase_values_age['Price'].map(\"${:.2f}\".format)\n",
    "})\n",
    "purchasing_age_analysis"
   ]
  },
  {
   "cell_type": "code",
   "execution_count": null,
   "id": "9f4b733a",
   "metadata": {},
   "outputs": [],
   "source": [
    "#Top Spenders"
   ]
  },
  {
   "cell_type": "code",
   "execution_count": null,
   "id": "b73045e6",
   "metadata": {},
   "outputs": [],
   "source": [
    "#Count purchases made by unique SN\n",
    "spender_purchase = purchase_data[\"SN\"].value_counts()\n",
    "\n",
    "#Calculate the average purchase by unique SN\n",
    "spender_average_purchase = purchase_data[\"Price\"].groupby(purchase_data[\"SN\"]).mean()\n",
    "\n",
    "#Calculate the total revenue from each unique SN\n",
    "spender_total_purchase = purchase_data[\"Price\"].groupby(purchase_data[\"SN\"]).sum()\n",
    "\n",
    "#display summary df\n",
    "big_spenders = pd.DataFrame({\n",
    "    \"Purchase Count\":spender_purchase,\n",
    "    \"Average Purchase Price\":spender_average_purchase,\n",
    "    \"Total Purchase Value\":spender_total_purchase\n",
    "})\n",
    "\n",
    "#create df, sort and format\n",
    "big_spenders_sorted = big_spenders.sort_values(\"Total Purchase Value\", ascending= False)\n",
    "big_spenders_sorted[\"Average Purchase Price\"] = big_spenders_sorted[\"Average Purchase Price\"].map(\"${:.2f}\".format)\n",
    "big_spenders_sorted[\"Total Purchase Value\"] = big_spenders_sorted[\"Total Purchase Value\"].map(\"${:.2f}\".format)\n",
    "\n",
    "#print top 5\n",
    "big_spenders_sorted[:5]"
   ]
  },
  {
   "cell_type": "code",
   "execution_count": null,
   "id": "61fdd145",
   "metadata": {},
   "outputs": [],
   "source": [
    "#Most Popular Items"
   ]
  },
  {
   "cell_type": "code",
   "execution_count": null,
   "id": "c94e8d78",
   "metadata": {},
   "outputs": [],
   "source": [
    "#isolate columned needed\n",
    "popular_items = purchase_data[['Item ID', 'Item Name', 'Price']]\n",
    "\n",
    "\n",
    "#count transactions for each item\n",
    "items_purchase = popular_items.groupby([\"Item ID\",\"Item Name\"])[\"Price\"].count()\n",
    "#Price of each item\n",
    "item_price= popular_items.groupby([\"Item ID\",\"Item Name\"])[\"Price\"].mean()\n",
    "#Calculate total revenue from each item\n",
    "popular_purchase_value = popular_items.groupby([\"Item ID\",\"Item Name\"])[\"Price\"].sum()\n",
    "\n",
    "#display summary df\n",
    "popular_items = pd.DataFrame({\n",
    "    \"Purchase Count\":items_purchase,\n",
    "    \"Item Price\":item_price,\n",
    "    \"Total Purchase Value\":popular_purchase_value\n",
    "})\n",
    "\n",
    "\n",
    "#create new df, sort and format\n",
    "popular_items_sorted = popular_items.sort_values(\"Purchase Count\", ascending= False)\n",
    "popular_items_sorted[\"Item Price\"]= popular_items_sorted[\"Item Price\"].map(\"${:.2f}\".format)\n",
    "popular_items_sorted[\"Total Purchase Value\"]= popular_items_sorted[\"Total Purchase Value\"].map(\"${:.2f}\".format)\n",
    "\n",
    "#print the DF\n",
    "popular_items_sorted[:5]"
   ]
  },
  {
   "cell_type": "code",
   "execution_count": null,
   "id": "060dcaf5",
   "metadata": {},
   "outputs": [],
   "source": [
    "#Most Profitable Items"
   ]
  },
  {
   "cell_type": "code",
   "execution_count": null,
   "id": "778066f1",
   "metadata": {},
   "outputs": [],
   "source": [
    "#re-sort above table by total purchase\n",
    "popular_items_sorted_purchase = popular_items.sort_values(\"Total Purchase Value\", ascending= False)\n",
    "popular_items_sorted_purchase[\"Item Price\"]= popular_items_sorted_purchase[\"Item Price\"].map(\"${:.2f}\".format)\n",
    "popular_items_sorted_purchase[\"Total Purchase Value\"]= popular_items_sorted_purchase[\"Total Purchase Value\"].map(\"${:.2f}\".format)\n",
    "\n",
    "#print the DF\n",
    "popular_items_sorted_purchase[:5]"
   ]
  },
  {
   "cell_type": "code",
   "execution_count": null,
   "id": "7bf5ef9a",
   "metadata": {},
   "outputs": [],
   "source": []
  }
 ],
 "metadata": {
  "kernelspec": {
   "display_name": "Python 3.10.1 64-bit",
   "language": "python",
   "name": "python3"
  },
  "language_info": {
   "codemirror_mode": {
    "name": "ipython",
    "version": 3
   },
   "file_extension": ".py",
   "mimetype": "text/x-python",
   "name": "python",
   "nbconvert_exporter": "python",
   "pygments_lexer": "ipython3",
   "version": "3.10.1"
  },
  "vscode": {
   "interpreter": {
    "hash": "51923b56f38a5b3424ee861e1200c08869906ff2215aafed0340f54392de6f99"
   }
  }
 },
 "nbformat": 4,
 "nbformat_minor": 5
}
